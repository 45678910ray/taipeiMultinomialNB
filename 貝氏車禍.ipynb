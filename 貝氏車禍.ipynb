{
 "cells": [
  {
   "cell_type": "code",
   "execution_count": 2,
   "metadata": {},
   "outputs": [],
   "source": [
    "import chardet\n",
    "import pandas as pd\n",
    "import matplotlib.pyplot as plt\n",
    "import numpy as np\n",
    "import seaborn as sns\n",
    "from sklearn import metrics, preprocessing, datasets\n",
    "from sklearn.preprocessing import normalize, OneHotEncoder\n",
    "from sklearn.model_selection import cross_val_score, cross_val_predict, train_test_split\n",
    "from sklearn.linear_model import LinearRegression\n",
    "from sklearn.naive_bayes import GaussianNB, MultinomialNB, BernoulliNB\n",
    "from sklearn.metrics import confusion_matrix\n",
    "#import tensorflow as tf\n",
    "#from tensorflow.keras import Sequential, Model\n",
    "#from tensorflow.keras.layers import Dense, Conv1D, MaxPooling1D, Input, BatchNormalization, Dropout, Activation, GlobalAveragePooling1D\n",
    "import random\n",
    "#from tensorflow.keras.callbacks import ModelCheckpoint, EarlyStopping, TensorBoard, ReduceLROnPlateau\n",
    "import os, shutil, time\n",
    "%matplotlib inline"
   ]
  },
  {
   "cell_type": "code",
   "execution_count": 42,
   "metadata": {},
   "outputs": [],
   "source": [
    "df101=pd.read_csv(r'./101年-臺北市A1及A2類交通事故明細.csv.csv',encoding='big5')\n",
    "df102=pd.read_csv(r'./102年-臺北市A1及A2類交通事故明細.csv.csv',encoding='big5')\n",
    "df103=pd.read_csv(r'./103年-臺北市A1及A2類交通事故明細.csv.csv',encoding='big5')\n",
    "df104=pd.read_csv(r'./104年-臺北市A1及A2類交通事故明細.csv.csv',encoding='utf-8')\n",
    "df105=pd.read_csv(r'./105年-臺北市A1及A2類交通事故明細.csv.csv',encoding='big5')\n",
    "df106=pd.read_csv(r'./106年-臺北市A1及A2類交通事故明細.csv.csv',encoding='big5')\n",
    "df107=pd.read_csv(r'./107年-臺北市A1及A2類交通事故明細.csv.csv',encoding='big5')\n",
    "df108=pd.read_csv(r'./108年-臺北市A1及A2類交通事故明細.csv.csv',encoding='big5')\n",
    "df109=pd.read_csv(r'./109年-臺北市A1及A2類交通事故明細.csv.csv',encoding='utf-8')\n",
    "df104.rename(columns={'天候':'4天候','速限':'7速限','道路型態':'8道路型態','事故位置':'9事故位置'},inplace=True)\n",
    "df105.rename(columns={'天候':'4天候','速限':'7速限','道路型態':'8道路型態','事故位置':'9事故位置'},inplace=True)\n",
    "df107.rename(columns={'天候':'4天候','速限':'7速限','道路型態':'8道路型態','事故位置':'9事故位置'},inplace=True)\n",
    "df109.rename(columns={'天候':'4天候','速限':'7速限','道路型態':'8道路型態','事故位置':'9事故位置'},inplace=True)\n",
    "result = pd.concat([df101,df102,df103,df104,df105,df106,df107,df108,df109],axis=0)\n",
    "age=result.query('年齡>100').index.tolist()\n",
    "result = result.drop(age)\n",
    "result.index = range(len(result))"
   ]
  },
  {
   "cell_type": "code",
   "execution_count": 43,
   "metadata": {},
   "outputs": [],
   "source": [
    "time = []\n",
    "for i in range(len(result)):\n",
    "    if result['發生時'][i]>=0 and result['發生時'][i]<=3:\n",
    "        time.append(1)\n",
    "    elif result['發生時'][i]>=4 and result['發生時'][i]<=6:\n",
    "        time.append(2)\n",
    "    elif result['發生時'][i]>=7 and result['發生時'][i]<=8:\n",
    "        time.append(3)\n",
    "    elif result['發生時'][i]>=9 and result['發生時'][i]<=10:\n",
    "        time.append(4)\n",
    "    elif result['發生時'][i]>=11 and result['發生時'][i]<=12:\n",
    "        time.append(5)\n",
    "    elif result['發生時'][i]>=13 and result['發生時'][i]<=16:\n",
    "        time.append(6)\n",
    "    elif result['發生時'][i]>=17 and result['發生時'][i]<=19:\n",
    "        time.append(7)\n",
    "    else:\n",
    "        time.append(8)\n",
    "time = pd.DataFrame(time,columns=['time'])\n",
    "result = pd.concat([result,time],axis=1)"
   ]
  },
  {
   "cell_type": "code",
   "execution_count": 97,
   "metadata": {},
   "outputs": [],
   "source": [
    "corrcoef = result[[\"4天候\",\"7速限\",\"8道路型態\",\"9事故位置\",\"time\",\"車種\",\"受傷人數\",\"死亡人數\"]]\n",
    "corrcoef.columns = [\"Weather\",\"SpeedLimit\",\"RoadPattern\",\"AccidentLocation\",\"time\",\"car\",\"injured\",\"death\"]\n",
    "corrcoef = corrcoef.dropna()\n",
    "corrcoef.isnull().any()\n",
    "corrcoef.index = range(len(corrcoef))"
   ]
  },
  {
   "cell_type": "code",
   "execution_count": 98,
   "metadata": {},
   "outputs": [],
   "source": [
    "SpeedLimit=corrcoef.query('SpeedLimit>110').index.tolist()\n",
    "corrcoef = corrcoef.drop(SpeedLimit)\n",
    "corrcoef.index = range(len(corrcoef)) #重新建立索引值，不然中間會跳號，因為剛drop完"
   ]
  },
  {
   "cell_type": "code",
   "execution_count": 99,
   "metadata": {},
   "outputs": [],
   "source": [
    "corrcoef.loc[corrcoef.death>=1, 'death'] = 1 #死亡人數1以上都變成1 -> 1=有人死,0=沒人死"
   ]
  },
  {
   "cell_type": "code",
   "execution_count": 100,
   "metadata": {},
   "outputs": [
    {
     "data": {
      "text/html": [
       "<div>\n",
       "<style scoped>\n",
       "    .dataframe tbody tr th:only-of-type {\n",
       "        vertical-align: middle;\n",
       "    }\n",
       "\n",
       "    .dataframe tbody tr th {\n",
       "        vertical-align: top;\n",
       "    }\n",
       "\n",
       "    .dataframe thead th {\n",
       "        text-align: right;\n",
       "    }\n",
       "</style>\n",
       "<table border=\"1\" class=\"dataframe\">\n",
       "  <thead>\n",
       "    <tr style=\"text-align: right;\">\n",
       "      <th></th>\n",
       "      <th>Weather</th>\n",
       "      <th>SpeedLimit</th>\n",
       "      <th>RoadPattern</th>\n",
       "      <th>AccidentLocation</th>\n",
       "      <th>time</th>\n",
       "      <th>car</th>\n",
       "      <th>injured</th>\n",
       "      <th>death</th>\n",
       "    </tr>\n",
       "  </thead>\n",
       "  <tbody>\n",
       "    <tr>\n",
       "      <th>0</th>\n",
       "      <td>8.0</td>\n",
       "      <td>0.0</td>\n",
       "      <td>4.0</td>\n",
       "      <td>2.0</td>\n",
       "      <td>4</td>\n",
       "      <td>1</td>\n",
       "      <td>1</td>\n",
       "      <td>0</td>\n",
       "    </tr>\n",
       "    <tr>\n",
       "      <th>1</th>\n",
       "      <td>8.0</td>\n",
       "      <td>0.0</td>\n",
       "      <td>4.0</td>\n",
       "      <td>2.0</td>\n",
       "      <td>4</td>\n",
       "      <td>0</td>\n",
       "      <td>1</td>\n",
       "      <td>0</td>\n",
       "    </tr>\n",
       "    <tr>\n",
       "      <th>2</th>\n",
       "      <td>8.0</td>\n",
       "      <td>50.0</td>\n",
       "      <td>4.0</td>\n",
       "      <td>1.0</td>\n",
       "      <td>5</td>\n",
       "      <td>0</td>\n",
       "      <td>2</td>\n",
       "      <td>0</td>\n",
       "    </tr>\n",
       "    <tr>\n",
       "      <th>3</th>\n",
       "      <td>8.0</td>\n",
       "      <td>50.0</td>\n",
       "      <td>4.0</td>\n",
       "      <td>1.0</td>\n",
       "      <td>5</td>\n",
       "      <td>0</td>\n",
       "      <td>2</td>\n",
       "      <td>0</td>\n",
       "    </tr>\n",
       "    <tr>\n",
       "      <th>4</th>\n",
       "      <td>7.0</td>\n",
       "      <td>50.0</td>\n",
       "      <td>4.0</td>\n",
       "      <td>1.0</td>\n",
       "      <td>8</td>\n",
       "      <td>1</td>\n",
       "      <td>1</td>\n",
       "      <td>0</td>\n",
       "    </tr>\n",
       "    <tr>\n",
       "      <th>...</th>\n",
       "      <td>...</td>\n",
       "      <td>...</td>\n",
       "      <td>...</td>\n",
       "      <td>...</td>\n",
       "      <td>...</td>\n",
       "      <td>...</td>\n",
       "      <td>...</td>\n",
       "      <td>...</td>\n",
       "    </tr>\n",
       "    <tr>\n",
       "      <th>421576</th>\n",
       "      <td>8.0</td>\n",
       "      <td>30.0</td>\n",
       "      <td>4.0</td>\n",
       "      <td>1.0</td>\n",
       "      <td>8</td>\n",
       "      <td>0</td>\n",
       "      <td>3</td>\n",
       "      <td>0</td>\n",
       "    </tr>\n",
       "    <tr>\n",
       "      <th>421577</th>\n",
       "      <td>8.0</td>\n",
       "      <td>30.0</td>\n",
       "      <td>4.0</td>\n",
       "      <td>1.0</td>\n",
       "      <td>8</td>\n",
       "      <td>2</td>\n",
       "      <td>3</td>\n",
       "      <td>0</td>\n",
       "    </tr>\n",
       "    <tr>\n",
       "      <th>421578</th>\n",
       "      <td>8.0</td>\n",
       "      <td>30.0</td>\n",
       "      <td>4.0</td>\n",
       "      <td>1.0</td>\n",
       "      <td>8</td>\n",
       "      <td>1</td>\n",
       "      <td>3</td>\n",
       "      <td>0</td>\n",
       "    </tr>\n",
       "    <tr>\n",
       "      <th>421579</th>\n",
       "      <td>8.0</td>\n",
       "      <td>50.0</td>\n",
       "      <td>14.0</td>\n",
       "      <td>8.0</td>\n",
       "      <td>8</td>\n",
       "      <td>5</td>\n",
       "      <td>1</td>\n",
       "      <td>0</td>\n",
       "    </tr>\n",
       "    <tr>\n",
       "      <th>421580</th>\n",
       "      <td>8.0</td>\n",
       "      <td>50.0</td>\n",
       "      <td>14.0</td>\n",
       "      <td>8.0</td>\n",
       "      <td>8</td>\n",
       "      <td>0</td>\n",
       "      <td>1</td>\n",
       "      <td>0</td>\n",
       "    </tr>\n",
       "  </tbody>\n",
       "</table>\n",
       "<p>421581 rows × 8 columns</p>\n",
       "</div>"
      ],
      "text/plain": [
       "        Weather  SpeedLimit  RoadPattern  AccidentLocation  time  car  \\\n",
       "0           8.0         0.0          4.0               2.0     4    1   \n",
       "1           8.0         0.0          4.0               2.0     4    0   \n",
       "2           8.0        50.0          4.0               1.0     5    0   \n",
       "3           8.0        50.0          4.0               1.0     5    0   \n",
       "4           7.0        50.0          4.0               1.0     8    1   \n",
       "...         ...         ...          ...               ...   ...  ...   \n",
       "421576      8.0        30.0          4.0               1.0     8    0   \n",
       "421577      8.0        30.0          4.0               1.0     8    2   \n",
       "421578      8.0        30.0          4.0               1.0     8    1   \n",
       "421579      8.0        50.0         14.0               8.0     8    5   \n",
       "421580      8.0        50.0         14.0               8.0     8    0   \n",
       "\n",
       "        injured  death  \n",
       "0             1      0  \n",
       "1             1      0  \n",
       "2             2      0  \n",
       "3             2      0  \n",
       "4             1      0  \n",
       "...         ...    ...  \n",
       "421576        3      0  \n",
       "421577        3      0  \n",
       "421578        3      0  \n",
       "421579        1      0  \n",
       "421580        1      0  \n",
       "\n",
       "[421581 rows x 8 columns]"
      ]
     },
     "execution_count": 100,
     "metadata": {},
     "output_type": "execute_result"
    }
   ],
   "source": [
    "car = corrcoef['car'].value_counts()\n",
    "list_car = car.keys().tolist()\n",
    "for c in list_car:\n",
    "    ind = list_car.index(c)\n",
    "    corrcoef.loc[corrcoef.car==c, 'car'] = ind\n",
    "corrcoef[\"car\"] = corrcoef[\"car\"].astype(int)\n",
    "corrcoef"
   ]
  },
  {
   "cell_type": "code",
   "execution_count": 101,
   "metadata": {},
   "outputs": [
    {
     "data": {
      "image/png": "[encoded data removed]",
      "text/plain": [
       "<Figure size 1440x576 with 2 Axes>"
      ]
     },
     "metadata": {
      "needs_background": "light"
     },
     "output_type": "display_data"
    }
   ],
   "source": [
    "import seaborn as sns\n",
    "fig,ax = plt.subplots(figsize=(20,8))\n",
    "corrcoef1_new = abs(corrcoef.corr())\n",
    "mask = np.array(corrcoef1_new)\n",
    "mask[np.triu_indices_from(mask)] = False \n",
    "sns.heatmap(corrcoef1_new, mask=mask, vmax=1.2, annot=True, ax=ax)\n",
    "plt.show();"
   ]
  },
  {
   "cell_type": "code",
   "execution_count": 102,
   "metadata": {},
   "outputs": [],
   "source": [
    "dead=corrcoef['death']\n",
    "corrcoef=corrcoef.drop(['death'], axis=1)\n",
    "#X,y兩種方式都可以取到陣列\n",
    "X = np.array(corrcoef[['car','injured']])\n",
    "y = dead.values"
   ]
  },
  {
   "cell_type": "code",
   "execution_count": 103,
   "metadata": {},
   "outputs": [],
   "source": [
    "X_train, X_test, y_train, y_test = train_test_split(X, y, test_size=0.3, random_state=0)"
   ]
  },
  {
   "cell_type": "code",
   "execution_count": 104,
   "metadata": {},
   "outputs": [
    {
     "data": {
      "text/plain": [
       "array([0, 0, 0, ..., 0, 0, 0], dtype=int64)"
      ]
     },
     "execution_count": 104,
     "metadata": {},
     "output_type": "execute_result"
    }
   ],
   "source": [
    "modelm=MultinomialNB()\n",
    "modelm.fit(X_train,y_train)\n",
    "modelm.predict(X_test)"
   ]
  },
  {
   "cell_type": "code",
   "execution_count": 105,
   "metadata": {},
   "outputs": [
    {
     "data": {
      "text/plain": [
       "array([[9.98172386e-01, 1.82761352e-03],\n",
       "       [9.98172386e-01, 1.82761352e-03],\n",
       "       [9.98244063e-01, 1.75593716e-03],\n",
       "       ...,\n",
       "       [9.99112863e-01, 8.87136842e-04],\n",
       "       [9.97429550e-01, 2.57044980e-03],\n",
       "       [9.98172386e-01, 1.82761352e-03]])"
      ]
     },
     "execution_count": 105,
     "metadata": {},
     "output_type": "execute_result"
    }
   ],
   "source": [
    "modelm.predict_proba(X_test) #沒人死的機率,有人死的機率"
   ]
  },
  {
   "cell_type": "code",
   "execution_count": 106,
   "metadata": {},
   "outputs": [
    {
     "data": {
      "text/plain": [
       "0.9925202609211307"
      ]
     },
     "execution_count": 106,
     "metadata": {},
     "output_type": "execute_result"
    }
   ],
   "source": [
    "modelm.score(X_test,y_test)"
   ]
  },
  {
   "cell_type": "code",
   "execution_count": 107,
   "metadata": {},
   "outputs": [
    {
     "data": {
      "image/png": "[encoded data removed]",
      "text/plain": [
       "<Figure size 180x180 with 1 Axes>"
      ]
     },
     "metadata": {
      "needs_background": "light"
     },
     "output_type": "display_data"
    }
   ],
   "source": [
    "from sklearn.metrics import confusion_matrix\n",
    "import matplotlib.pyplot as plt\n",
    "confmat = confusion_matrix(y_true=y_test, y_pred=modelm.predict(X_test))\n",
    "fig, ax = plt.subplots(figsize=(2.5, 2.5))\n",
    "ax.matshow(confmat, cmap=plt.cm.Blues, alpha=0.3)\n",
    "for i in range(confmat.shape[0]):\n",
    "    for j in range(confmat.shape[1]):\n",
    "        ax.text(x=j, y=i, s=confmat[i,j], va='center', ha='center')\n",
    "plt.xlabel('predicted label')        \n",
    "plt.ylabel('true label')\n",
    "plt.show()"
   ]
  }
 ],
 "metadata": {
  "kernelspec": {
   "display_name": "Python 3",
   "language": "python",
   "name": "python3"
  },
  "language_info": {
   "codemirror_mode": {
    "name": "ipython",
    "version": 3
   },
   "file_extension": ".py",
   "mimetype": "text/x-python",
   "name": "python",
   "nbconvert_exporter": "python",
   "pygments_lexer": "ipython3",
   "version": "3.7.6"
  }
 },
 "nbformat": 4,
 "nbformat_minor": 4
}
